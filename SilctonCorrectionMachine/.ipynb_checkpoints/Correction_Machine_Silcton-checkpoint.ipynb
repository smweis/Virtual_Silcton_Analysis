{
 "cells": [
  {
   "cell_type": "markdown",
   "metadata": {},
   "source": [
    "# What this does\n",
    "\n",
    "Have you collected data from the Virtual Silcton platform before 2021? If so, the data you collected from the pointing task likely contained a bug. For more information, see this repo: https://github.com/smweis/Virtual_Silcton_Analysis\n",
    "\n",
    "By running this script on your data, you will be able to download output that uses a simple linear regression model that predicts **actual pointing error** using the **buggy pointing error** separately for within-route and between-route trials. This data is predicted at the **participant-average** level, not the trial level. (You will receive output consisting of two datapoints per participant - their corrected within-pointing error and their corrected between-pointing error). \n",
    "\n",
    "# How to load in your data\n",
    "\n",
    "The simplest way to do this is to download your pointing data from the Virtual Silcton website. (If you've collected data offline, you'll need to contact Steven Weisberg for instructions). \n",
    "\n",
    "1. Download your pointing data from the Virtual Silcton website as a CSV.\n",
    "2. Upload your CSV to Google Drive. \n",
    "3. Find the CSV on Google Drive.\n",
    "4. Right-click the file and select **'Share'**. \n",
    "5. Change **'Restricted'** to **'Anyone with Link'**\n",
    "6. Copy the link to the file and paste below as `PATH_TO_YOUR_DATA`\n",
    "7. Run the cell (by clicking the Cell menu, then **Run all**\n",
    "8. (Optional) scroll down to view the output (whether any data were removed or missing) and the visualizations. \n",
    "\n",
    "Note: `Training_Data.csv`is the data collected by Weisberg, Newcombe, & Schinazi to address the Silcton bug. It is contained in the files with this notebook, so there is no need to modify it. \n",
    "\n",
    "# How to download your corrected data\n",
    "\n",
    "1. At the top of this page, click 'File -> Open'\n",
    "2. You should see your CSV. Click the checkbox, then select 'Download'. \n",
    "\n",
    "## DON'T FORGET TO CHANGE THE FIRST LINE OF CODE BELOW TO THE PATH TO YOUR DATA FROM GOOGLE DRIVE"
   ]
  },
  {
   "cell_type": "code",
   "execution_count": 38,
   "metadata": {},
   "outputs": [
    {
     "name": "stdout",
     "output_type": "stream",
     "text": [
      "THE DATA USED WAS THE TEST DATA. PLEASE BE SURE YOUR DATA CORRECTLY ENTERED\n",
      "\n",
      "We will only estimate new values for subjects who were collected with the buggy pointing task.\n",
      "This resulted in removing 0 trials\n",
      "\n",
      "Found 51 subjects\n",
      "0 subjects did not have the right number of within pointing trials.\n",
      "0 subjects did not have the right number of between pointing trials.\n",
      "\n",
      "Data saved as Silcton_Pointing_Corrected.csv\n"
     ]
    }
   ],
   "source": [
    "# CHANGE THIS TO THE PATH TO YOUR DATA FROM GOOGLE DRIVE\n",
    "PATH_TO_YOUR_DATA=\"https://drive.google.com/file/d/154l9LjmaETsCj5nnBM5qE-oFTJ6lDz9-/view?usp=sharing\"\n",
    "\n",
    "# OPTIONAL: Change this output file name for more than one dataset. \n",
    "output_file_name = 'Silcton_Pointing_Corrected.csv'\n",
    "\n",
    "from io import StringIO\n",
    "import requests\n",
    "\n",
    "import pandas as pd\n",
    "import numpy as np\n",
    "from sklearn import linear_model\n",
    "\n",
    "# Training_Data.csv is the data used to train the model.\n",
    "# These data were coded to have both buggy data AND corrected data, and are used to train the regression model. \n",
    "# The data are stored in the repo with this notebook, so you do not need to change this. \n",
    "df_train_path = 'Training_Data.csv'\n",
    "df_train = pd.read_csv(df_train_path, encoding = 'unicode_escape', sep = \",\")\n",
    "\n",
    "# We train only on new data\n",
    "df_train = df_train[df_train.New_or_Original=='New']\n",
    "\n",
    "# Separate models for within and between \n",
    "X_train_within = df_train[['bad_pointing_coding_within']]\n",
    "y_train_within = df_train[['good_pointing_coding_within']]\n",
    "\n",
    "\n",
    "\n",
    "within_model = linear_model.LinearRegression()\n",
    "within_model.fit(X_train_within,y_train_within)\n",
    "\n",
    "X_train_between = df_train[['bad_pointing_coding_between']]\n",
    "y_train_between = df_train[['good_pointing_coding_between']]\n",
    "\n",
    "between_model = linear_model.LinearRegression()\n",
    "between_model.fit(X_train_between,y_train_between)\n",
    "\n",
    "\n",
    "# Upload the participant data from Google Drive\n",
    "if PATH_TO_YOUR_DATA==\"https://drive.google.com/file/d/154l9LjmaETsCj5nnBM5qE-oFTJ6lDz9-/view?usp=sharing\":\n",
    "    print('THE DATA USED WAS THE TEST DATA. PLEASE BE SURE YOUR DATA CORRECTLY ENTERED\\n')\n",
    "    \n",
    "file_id = PATH_TO_YOUR_DATA.split('/')[-2]\n",
    "dwn_url='https://drive.google.com/uc?export=download&id=' + file_id\n",
    "url = requests.get(dwn_url).text\n",
    "csv_raw = StringIO(url)\n",
    "df = pd.read_csv(csv_raw)\n",
    "\n",
    "\n",
    "# Make sure all pointing judgments being estimated came from the buggy pointing task.\n",
    "originalLen = df.shape[0]\n",
    "print('We will only estimate new values for subjects who were collected with the buggy pointing task.')\n",
    "\n",
    "df[df['error in pointing task']==True]\n",
    "print(f'This resulted in removing {originalLen - df.shape[0]} trials\\n')\n",
    "\n",
    "\n",
    "# Now calculate participant and within/between averages. \n",
    "grouped = df.groupby(['participant','same or different route'],as_index=False).agg(bug_average=(\"abs error\", np.mean),\n",
    "                                                                                   nTrials=(\"abs error\", \"count\"))\n",
    "\n",
    "# sanity check\n",
    "print(f'Found {len(grouped.participant.unique())} subjects')\n",
    "\n",
    "grouped_within = grouped.loc[grouped['same or different route']=='same']\n",
    "grouped_between = grouped.loc[grouped['same or different route']=='different']\n",
    "\n",
    "# Number of within trials = 24. Number of between trials = 32.\n",
    "wrong_within_count = len(grouped_within[grouped_within['nTrials'] != 24]['participant'])\n",
    "wrong_between_count = len(grouped_between[grouped_between['nTrials']!=32]['participant'])\n",
    "\n",
    "print(f'{wrong_within_count} subjects did not have the right number of within pointing trials.')\n",
    "print(f'{wrong_between_count} subjects did not have the right number of between pointing trials.\\n')\n",
    "\n",
    "\n",
    "# we store in an array all predicted (corrected) angles\n",
    "grouped.loc[grouped['same or different route']=='same','corrected_average'] = within_model.predict(grouped_within[['bug_average']])\n",
    "grouped.loc[grouped['same or different route']=='different','corrected_average'] = between_model.predict(grouped_between[['bug_average']])\n",
    "\n",
    "\n",
    "# we save the array of corrected predictions \n",
    "grouped.to_csv(output_file_name)\n",
    "\n",
    "\n",
    "print(f'Data saved as {output_file_name}')\n",
    "\n"
   ]
  },
  {
   "cell_type": "markdown",
   "metadata": {},
   "source": [
    "# Information about the model fits\n",
    "\n",
    "Model fit is exceptionally high (both r-values > .93). Including polynomials does not improve the fit. \n",
    "\n",
    "From what we have observed so far, a simple scalar transformation on both participant-level trial sets (within-route and between-route trials) has the maximal return. "
   ]
  },
  {
   "cell_type": "code",
   "execution_count": 39,
   "metadata": {},
   "outputs": [
    {
     "name": "stdout",
     "output_type": "stream",
     "text": [
      "Within-route model coefficient = 1.45, fit, r = 0.932\n",
      "Between-route model coefficient = 1.28, fit, r = 0.935\n"
     ]
    }
   ],
   "source": [
    "print(f'Within-route model coefficient = {within_model.coef_[0][0]:.3}, fit, r = {within_model.score(X_train_within,y_train_within):.3}')\n",
    "print(f'Between-route model coefficient = {between_model.coef_[0][0]:.3}, fit, r = {between_model.score(X_train_between,y_train_between):.3}')\n",
    "\n"
   ]
  },
  {
   "cell_type": "markdown",
   "metadata": {},
   "source": [
    "## Visualization of corrections"
   ]
  },
  {
   "cell_type": "code",
   "execution_count": 40,
   "metadata": {},
   "outputs": [
    {
     "data": {
      "image/png": "[encoded data removed]",
      "text/plain": [
       "<Figure size 432x288 with 1 Axes>"
      ]
     },
     "metadata": {
      "needs_background": "light"
     },
     "output_type": "display_data"
    },
    {
     "data": {
      "image/png": "[encoded data removed]",
      "text/plain": [
       "<Figure size 432x288 with 1 Axes>"
      ]
     },
     "metadata": {
      "needs_background": "light"
     },
     "output_type": "display_data"
    },
    {
     "data": {
      "image/png": "[encoded data removed]",
      "text/plain": [
       "<Figure size 432x288 with 1 Axes>"
      ]
     },
     "metadata": {
      "needs_background": "light"
     },
     "output_type": "display_data"
    }
   ],
   "source": [
    "import matplotlib.pyplot as plt\n",
    "%matplotlib inline\n",
    "\n",
    "\n",
    "fig, ax = plt.subplots()\n",
    "ax.scatter(grouped[grouped['same or different route']=='same']['corrected_average'],\n",
    "           grouped[grouped['same or different route']=='same']['bug_average'])\n",
    "ax.set_title('Within Route Error')\n",
    "ax.set_xlabel('Corrected Average Error')\n",
    "ax.set_ylabel('Bug Average Error')\n",
    "\n",
    "fig, ax = plt.subplots()\n",
    "ax.scatter(grouped[grouped['same or different route']=='different']['corrected_average'],\n",
    "           grouped[grouped['same or different route']=='different']['bug_average'])\n",
    "ax.set_title('Between Route Error')\n",
    "ax.set_xlabel('Corrected Average Error')\n",
    "ax.set_ylabel('Bug Average Error')\n",
    "\n",
    "fig, ax = plt.subplots()\n",
    "ax.scatter(grouped[grouped['same or different route']=='different']['corrected_average'],\n",
    "           grouped[grouped['same or different route']=='same']['corrected_average'], \n",
    "           c='blue',label='Corrected Average Error')\n",
    "ax.scatter(grouped[grouped['same or different route']=='different']['bug_average'],\n",
    "           grouped[grouped['same or different route']=='same']['bug_average'], \n",
    "           c='red',label='Bug Average Error')\n",
    "\n",
    "plt.legend()\n",
    "\n",
    "plt.show()"
   ]
  }
 ],
 "metadata": {
  "kernelspec": {
   "display_name": "Python 3",
   "language": "python",
   "name": "python3"
  },
  "language_info": {
   "codemirror_mode": {
    "name": "ipython",
    "version": 3
   },
   "file_extension": ".py",
   "mimetype": "text/x-python",
   "name": "python",
   "nbconvert_exporter": "python",
   "pygments_lexer": "ipython3",
   "version": "3.8.3"
  },
  "varInspector": {
   "cols": {
    "lenName": 16,
    "lenType": 16,
    "lenVar": 40
   },
   "kernels_config": {
    "python": {
     "delete_cmd_postfix": "",
     "delete_cmd_prefix": "del ",
     "library": "var_list.py",
     "varRefreshCmd": "print(var_dic_list())"
    },
    "r": {
     "delete_cmd_postfix": ") ",
     "delete_cmd_prefix": "rm(",
     "library": "var_list.r",
     "varRefreshCmd": "cat(var_dic_list()) "
    }
   },
   "types_to_exclude": [
    "module",
    "function",
    "builtin_function_or_method",
    "instance",
    "_Feature"
   ],
   "window_display": false
  }
 },
 "nbformat": 4,
 "nbformat_minor": 2
}
